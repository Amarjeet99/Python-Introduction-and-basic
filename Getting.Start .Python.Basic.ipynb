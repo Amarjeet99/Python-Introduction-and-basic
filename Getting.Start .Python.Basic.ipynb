{
 "cells": [
  {
   "cell_type": "markdown",
   "metadata": {},
   "source": [
    "### What's is python ?\n",
    "#### Python tutorial provides basic and advanced concepts of Python. Our Python tutorial is designed for beginners and professionals.\n",
    "\n",
    "* Python is a simple, general purpose, high level, and object-oriented programming language.\n",
    "\n",
    "* Python is an interpreted scripting language also. Guido Van Rossum is known as the founder of Python programming"
   ]
  },
  {
   "cell_type": "markdown",
   "metadata": {},
   "source": [
    "### Steps\n",
    "    *  Install Python 3.7 or Latest version (as your wish)  link-> https://www.python.org copy this link and install python \n",
    "     need or depends our system (like as mac os windows or linux)\n",
    "    * In Installing Process add to path click \n",
    "    * And then install jupyter notebook or anaconda or pycham as your wish or comfertable this python code editor \n",
    "    ya you can also use python idle editor \n",
    "    \n",
    "    * for jupyter notebook cmd command pip install jupyter notebook\n",
    "    "
   ]
  },
  {
   "cell_type": "markdown",
   "metadata": {},
   "source": [
    "### Python features\n",
    "* Python provides lots of features that are listed below."
   ]
  },
  {
   "cell_type": "markdown",
   "metadata": {},
   "source": [
    "\n",
    "#### 1) Easy to Learn and Use\n",
    "* Python is easy to learn and use. It is developer-friendly and high level programming language.\n",
    "\n",
    "#### 2) Expressive Language\n",
    "* Python language is more expressive means that it is more understandable and readable.\n",
    "\n",
    "\n",
    "#### 3) Interpreted Language\n",
    "* Python is an interpreted language i.e. interpreter executes the code line by line at a time. This makes debugging easy and thus suitable for beginners.\n",
    "\n",
    "#### 4) Cross-platform Language\n",
    "* Python can run equally on different platforms such as Windows, Linux, Unix and Macintosh etc. So, we can say that Python is a portable language.\n",
    "\n",
    "#### 5) Free and Open Source\n",
    "* Python language is freely available at offical web address.The source-code is also available. Therefore it is open source.\n",
    "\n",
    "#### 6) Object-Oriented Language\n",
    "* Python supports object oriented language and concepts of classes and objects come into existence.\n",
    "\n",
    "#### 7) Extensible\n",
    "* It implies that other languages such as C/C++ can be used to compile the code and thus it can be used further in our python code.\n",
    "\n",
    "#### 8) Large Standard Library\n",
    "* Python has a large and broad library and prvides rich set of module and functions for rapid application development.\n",
    "\n",
    "#### 9) GUI Programming Support\n",
    "* Graphical user interfaces can be developed using Python.\n",
    "\n",
    "#### 10) Integrated\n",
    "* It can be easily integrated with languages like C, C++, JAVA etc."
   ]
  },
  {
   "cell_type": "markdown",
   "metadata": {},
   "source": [
    "###  Python Application"
   ]
  },
  {
   "cell_type": "markdown",
   "metadata": {},
   "source": [
    "* Web Application\n",
    "* Desktop GUI Application\n",
    "* Software Application\n",
    "* Scientific and Numeric\n",
    "* Business Applications\n",
    "* Console Based Application\n",
    "* Audio or Video based Applications\n",
    "* 3D CAD Applications\n",
    "* Enterprise Applications\n",
    "* etc\n",
    "\n"
   ]
  },
  {
   "cell_type": "markdown",
   "metadata": {},
   "source": [
    "### Example"
   ]
  },
  {
   "cell_type": "code",
   "execution_count": 2,
   "metadata": {},
   "outputs": [
    {
     "name": "stdout",
     "output_type": "stream",
     "text": [
      "Hello, World\n"
     ]
    }
   ],
   "source": [
    "print('Hello, World') # in jupyter notebook press or hit shift+enter"
   ]
  },
  {
   "cell_type": "code",
   "execution_count": 12,
   "metadata": {},
   "outputs": [],
   "source": [
    "# checking type"
   ]
  },
  {
   "cell_type": "code",
   "execution_count": 13,
   "metadata": {},
   "outputs": [
    {
     "name": "stdout",
     "output_type": "stream",
     "text": [
      "<class 'str'>\n"
     ]
    }
   ],
   "source": [
    "print(type('hello , world'))"
   ]
  },
  {
   "cell_type": "code",
   "execution_count": 15,
   "metadata": {},
   "outputs": [
    {
     "name": "stdout",
     "output_type": "stream",
     "text": [
      "Hello, World\n",
      "<class 'str'>\n"
     ]
    }
   ],
   "source": [
    "a='Hello, World'\n",
    "print(a) # print string\n",
    "print(type(a)) # check variable type"
   ]
  },
  {
   "cell_type": "code",
   "execution_count": 16,
   "metadata": {},
   "outputs": [
    {
     "name": "stdout",
     "output_type": "stream",
     "text": [
      "Hello World\n"
     ]
    }
   ],
   "source": [
    "# concatenation of two variable\n",
    "a='Hello '    \n",
    "b='World'\n",
    "print(a+b)"
   ]
  },
  {
   "cell_type": "code",
   "execution_count": null,
   "metadata": {},
   "outputs": [],
   "source": []
  }
 ],
 "metadata": {
  "kernelspec": {
   "display_name": "Python 3",
   "language": "python",
   "name": "python3"
  },
  "language_info": {
   "codemirror_mode": {
    "name": "ipython",
    "version": 3
   },
   "file_extension": ".py",
   "mimetype": "text/x-python",
   "name": "python",
   "nbconvert_exporter": "python",
   "pygments_lexer": "ipython3",
   "version": "3.7.4"
  }
 },
 "nbformat": 4,
 "nbformat_minor": 2
}
